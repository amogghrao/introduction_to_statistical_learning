{
 "cells": [
  {
   "cell_type": "markdown",
   "metadata": {},
   "source": [
    "# Introduction to Statistical Learning\n",
    "\n",
    "*Statistical learning* refers to vast set of tools for understanding the data. These tools can be classified as *Supervised* or *unsupervised*. \n",
    "\n",
    "- **Supervised** : Uses *historical* and *labeled* data, the machine learning model predicts a value.\n",
    "- **Unsupervised** : Applied to *unlabeled* data, the machine learning model discovers possible pattern in the data.\n",
    "\n",
    "The video explaination for Chapter 1 can be found [here](https://www.youtube.com/watch?v=2wLfFB_6SKI&list=PL5-da3qGB5ICcUhueCyu25slvsGp8IDTa&index=1&ab_channel=StatisticalLearning)\n",
    "\n",
    "To provide an illustration of some applications of statistical learning, Let's look into three data sets.\n",
    "\n",
    "## Wage Data\n",
    "\n",
    "We examine a number of factors that relates to wages for a group of males from the Atlantic region of United States. A relationship between *age* , *education* and *year* on year will be derived. \n",
    "\n",
    "\n",
    "### Setting up the format"
   ]
  },
  {
   "cell_type": "code",
   "execution_count": 1,
   "metadata": {},
   "outputs": [],
   "source": [
    "# Standard imports\n",
    "\n",
    "import pandas as pd\n",
    "import numpy as np\n",
    "import matplotlib.pyplot as plt\n",
    "import seaborn as sns\n",
    "import statsmodels.api as sm\n",
    "df_wage = pd.read_csv('data/wage.csv')"
   ]
  },
  {
   "cell_type": "code",
   "execution_count": 2,
   "metadata": {},
   "outputs": [
    {
     "data": {
      "text/html": [
       "<div>\n",
       "<style scoped>\n",
       "    .dataframe tbody tr th:only-of-type {\n",
       "        vertical-align: middle;\n",
       "    }\n",
       "\n",
       "    .dataframe tbody tr th {\n",
       "        vertical-align: top;\n",
       "    }\n",
       "\n",
       "    .dataframe thead th {\n",
       "        text-align: right;\n",
       "    }\n",
       "</style>\n",
       "<table border=\"1\" class=\"dataframe\">\n",
       "  <thead>\n",
       "    <tr style=\"text-align: right;\">\n",
       "      <th></th>\n",
       "      <th>year</th>\n",
       "      <th>age</th>\n",
       "      <th>sex</th>\n",
       "      <th>maritl</th>\n",
       "      <th>race</th>\n",
       "      <th>education</th>\n",
       "      <th>region</th>\n",
       "      <th>jobclass</th>\n",
       "      <th>health</th>\n",
       "      <th>health_ins</th>\n",
       "      <th>logwage</th>\n",
       "      <th>wage</th>\n",
       "    </tr>\n",
       "  </thead>\n",
       "  <tbody>\n",
       "    <tr>\n",
       "      <th>0</th>\n",
       "      <td>2006</td>\n",
       "      <td>18</td>\n",
       "      <td>1. Male</td>\n",
       "      <td>1. Never Married</td>\n",
       "      <td>1. White</td>\n",
       "      <td>1. &lt; HS Grad</td>\n",
       "      <td>2. Middle Atlantic</td>\n",
       "      <td>1. Industrial</td>\n",
       "      <td>1. &lt;=Good</td>\n",
       "      <td>2. No</td>\n",
       "      <td>4.318063</td>\n",
       "      <td>75.043154</td>\n",
       "    </tr>\n",
       "    <tr>\n",
       "      <th>1</th>\n",
       "      <td>2004</td>\n",
       "      <td>24</td>\n",
       "      <td>1. Male</td>\n",
       "      <td>1. Never Married</td>\n",
       "      <td>1. White</td>\n",
       "      <td>4. College Grad</td>\n",
       "      <td>2. Middle Atlantic</td>\n",
       "      <td>2. Information</td>\n",
       "      <td>2. &gt;=Very Good</td>\n",
       "      <td>2. No</td>\n",
       "      <td>4.255273</td>\n",
       "      <td>70.476020</td>\n",
       "    </tr>\n",
       "    <tr>\n",
       "      <th>2</th>\n",
       "      <td>2003</td>\n",
       "      <td>45</td>\n",
       "      <td>1. Male</td>\n",
       "      <td>2. Married</td>\n",
       "      <td>1. White</td>\n",
       "      <td>3. Some College</td>\n",
       "      <td>2. Middle Atlantic</td>\n",
       "      <td>1. Industrial</td>\n",
       "      <td>1. &lt;=Good</td>\n",
       "      <td>1. Yes</td>\n",
       "      <td>4.875061</td>\n",
       "      <td>130.982177</td>\n",
       "    </tr>\n",
       "    <tr>\n",
       "      <th>3</th>\n",
       "      <td>2003</td>\n",
       "      <td>43</td>\n",
       "      <td>1. Male</td>\n",
       "      <td>2. Married</td>\n",
       "      <td>3. Asian</td>\n",
       "      <td>4. College Grad</td>\n",
       "      <td>2. Middle Atlantic</td>\n",
       "      <td>2. Information</td>\n",
       "      <td>2. &gt;=Very Good</td>\n",
       "      <td>1. Yes</td>\n",
       "      <td>5.041393</td>\n",
       "      <td>154.685293</td>\n",
       "    </tr>\n",
       "    <tr>\n",
       "      <th>4</th>\n",
       "      <td>2005</td>\n",
       "      <td>50</td>\n",
       "      <td>1. Male</td>\n",
       "      <td>4. Divorced</td>\n",
       "      <td>1. White</td>\n",
       "      <td>2. HS Grad</td>\n",
       "      <td>2. Middle Atlantic</td>\n",
       "      <td>2. Information</td>\n",
       "      <td>1. &lt;=Good</td>\n",
       "      <td>1. Yes</td>\n",
       "      <td>4.318063</td>\n",
       "      <td>75.043154</td>\n",
       "    </tr>\n",
       "  </tbody>\n",
       "</table>\n",
       "</div>"
      ],
      "text/plain": [
       "   year  age      sex            maritl      race        education  \\\n",
       "0  2006   18  1. Male  1. Never Married  1. White     1. < HS Grad   \n",
       "1  2004   24  1. Male  1. Never Married  1. White  4. College Grad   \n",
       "2  2003   45  1. Male        2. Married  1. White  3. Some College   \n",
       "3  2003   43  1. Male        2. Married  3. Asian  4. College Grad   \n",
       "4  2005   50  1. Male       4. Divorced  1. White       2. HS Grad   \n",
       "\n",
       "               region        jobclass          health health_ins   logwage  \\\n",
       "0  2. Middle Atlantic   1. Industrial       1. <=Good      2. No  4.318063   \n",
       "1  2. Middle Atlantic  2. Information  2. >=Very Good      2. No  4.255273   \n",
       "2  2. Middle Atlantic   1. Industrial       1. <=Good     1. Yes  4.875061   \n",
       "3  2. Middle Atlantic  2. Information  2. >=Very Good     1. Yes  5.041393   \n",
       "4  2. Middle Atlantic  2. Information       1. <=Good     1. Yes  4.318063   \n",
       "\n",
       "         wage  \n",
       "0   75.043154  \n",
       "1   70.476020  \n",
       "2  130.982177  \n",
       "3  154.685293  \n",
       "4   75.043154  "
      ]
     },
     "execution_count": 2,
     "metadata": {},
     "output_type": "execute_result"
    }
   ],
   "source": [
    "df_wage.head()"
   ]
  },
  {
   "cell_type": "code",
   "execution_count": 3,
   "metadata": {},
   "outputs": [
    {
     "name": "stdout",
     "output_type": "stream",
     "text": [
      "<class 'pandas.core.frame.DataFrame'>\n",
      "RangeIndex: 3000 entries, 0 to 2999\n",
      "Data columns (total 12 columns):\n",
      " #   Column      Non-Null Count  Dtype  \n",
      "---  ------      --------------  -----  \n",
      " 0   year        3000 non-null   int64  \n",
      " 1   age         3000 non-null   int64  \n",
      " 2   sex         3000 non-null   object \n",
      " 3   maritl      3000 non-null   object \n",
      " 4   race        3000 non-null   object \n",
      " 5   education   3000 non-null   object \n",
      " 6   region      3000 non-null   object \n",
      " 7   jobclass    3000 non-null   object \n",
      " 8   health      3000 non-null   object \n",
      " 9   health_ins  3000 non-null   object \n",
      " 10  logwage     3000 non-null   float64\n",
      " 11  wage        3000 non-null   float64\n",
      "dtypes: float64(2), int64(2), object(8)\n",
      "memory usage: 281.4+ KB\n"
     ]
    }
   ],
   "source": [
    "df_wage.info()"
   ]
  },
  {
   "cell_type": "code",
   "execution_count": 4,
   "metadata": {},
   "outputs": [
    {
     "data": {
      "text/plain": [
       "['Solarize_Light2',\n",
       " '_classic_test_patch',\n",
       " 'bmh',\n",
       " 'classic',\n",
       " 'dark_background',\n",
       " 'fast',\n",
       " 'fivethirtyeight',\n",
       " 'ggplot',\n",
       " 'grayscale',\n",
       " 'seaborn',\n",
       " 'seaborn-bright',\n",
       " 'seaborn-colorblind',\n",
       " 'seaborn-dark',\n",
       " 'seaborn-dark-palette',\n",
       " 'seaborn-darkgrid',\n",
       " 'seaborn-deep',\n",
       " 'seaborn-muted',\n",
       " 'seaborn-notebook',\n",
       " 'seaborn-paper',\n",
       " 'seaborn-pastel',\n",
       " 'seaborn-poster',\n",
       " 'seaborn-talk',\n",
       " 'seaborn-ticks',\n",
       " 'seaborn-white',\n",
       " 'seaborn-whitegrid',\n",
       " 'tableau-colorblind10']"
      ]
     },
     "execution_count": 4,
     "metadata": {},
     "output_type": "execute_result"
    }
   ],
   "source": [
    "# To recreate the plots from book, we will need to use 'R' style plotting. \n",
    "#Let's first look into the types of style, we have at our disposal\n",
    "\n",
    "plt.style.available\n",
    "\n",
    "## ggplot corresponds to 'R' style plotting. fivethirtyeight is pretty cool too"
   ]
  },
  {
   "cell_type": "code",
   "execution_count": 5,
   "metadata": {},
   "outputs": [],
   "source": [
    "# Choose 'R' style plotting\n",
    "# Once set, all following plots will correspond to the same style unless specified otherwise.\n",
    "plt.style.use('ggplot')"
   ]
  },
  {
   "cell_type": "markdown",
   "metadata": {},
   "source": [
    "### Examination of *Wage Data*"
   ]
  },
  {
   "cell_type": "code",
   "execution_count": 87,
   "metadata": {},
   "outputs": [
    {
     "data": {
      "image/png": "[encoded data removed]",
      "text/plain": [
       "<Figure size 1152x432 with 3 Axes>"
      ]
     },
     "metadata": {},
     "output_type": "display_data"
    }
   ],
   "source": [
    "fig,ax = plt.subplots(1,3,figsize = (16,6))\n",
    "\n",
    "ax[0].scatter(df_wage['age'],df_wage['wage'],color = '#C0C0C0')\n",
    "sns.regplot(x = 'age',y = 'wage',data = df_wage,lowess = True,scatter = False,ax= ax[0],color = 'b',)\n",
    "ax[0].set_xlim([15,85])\n",
    "ax[0].set_ylim([15,355])\n",
    "\n",
    "ax[1].scatter(df_wage['year'], df_wage['wage'],color = '#C0C0C0',edgecolors= \"black\")\n",
    "sns.regplot(x = 'year',y = 'wage',data = df_wage,lowess = True,scatter = False,ax= ax[1],color = 'b')\n",
    "ax[1].set_xlim([2002.5,2009.5])\n",
    "ax[1].set_ylim([0,355])\n",
    "\n",
    "\n",
    "\n",
    "df_wage['edu_normalized'] = df_wage['education'].str[:1].astype(int)\n",
    "\n",
    "sns.boxplot(x = 'edu_normalized', y = 'wage',data = df_wage,ax = ax[2], palette={1:'lightblue',2:'g',3:'#FFFC0000',4:'#3357FF',5:'#FFDB58'})\n",
    "\n",
    "plt.tight_layout()"
   ]
  },
  {
   "cell_type": "markdown",
   "metadata": {},
   "source": [
    "We examine a number of factors that relates to wages for a group of males from the Atlantic region of United States.\n",
    "\n",
    "- **`Age`** (Left) : A relationship between *age* , *education* and *year* on year will be derived. The left hand panel in the above figure displays wage vs age. There is evidence that wage increases with age but then decreases agin after ~60. The blue line is an approximate trend line which shows the trend visually. There is a significant amount of variation associated with trend line, which tells us that `age` alone is unlikely to predict wage. /n\n",
    "\n",
    "- **`year`** (Center): Wage increases by approximately \\[$10,000\\], in a roughly linear fashion between 2003 and 2009. The rise is slight relative to variablity in the data. \n",
    "\n",
    "- **`Education Level`** (Right): Boxplot displaying *wage* as a function of `Education Level`, with 1 indicating the lowest level(no high school diploma) and 5(graduate). Wages are greater for individuals with higher education level."
   ]
  },
  {
   "cell_type": "markdown",
   "metadata": {},
   "source": [
    "## Stock Market Data\n",
    "\n",
    "The `wage` data involves predicting a *continuous* or *quantitative* output value. This is referred as `regression` problem. \n",
    "\n",
    "In some cases, we may wish to predict a non-numerical value - that is a `categorical` or `qualitative` output. In the data below we will explore the stock market data where the goal is to predict whether the stock market will go up or down the next day. The output variable here is categorical and these type of problems are referred to as classification problems. \n",
    "\n",
    "The goal is to predict whether the index will increase or decrease on a given day using the past 5 days’ percentage changes in the index. Here the statistical learning problem does not involve predicting a numerical value. Instead it involves predicting whether a given day’s stock market performance will fall into the `Up` bucket or the `Down` bucket. This is known as a classification problem. A model that could accurately predict the direction in which the market will move would be very useful!\n",
    "\n"
   ]
  },
  {
   "cell_type": "code",
   "execution_count": 88,
   "metadata": {},
   "outputs": [],
   "source": [
    "df_market = pd.read_csv('Data/smarket.csv')"
   ]
  },
  {
   "cell_type": "code",
   "execution_count": 89,
   "metadata": {},
   "outputs": [
    {
     "data": {
      "text/html": [
       "<div>\n",
       "<style scoped>\n",
       "    .dataframe tbody tr th:only-of-type {\n",
       "        vertical-align: middle;\n",
       "    }\n",
       "\n",
       "    .dataframe tbody tr th {\n",
       "        vertical-align: top;\n",
       "    }\n",
       "\n",
       "    .dataframe thead th {\n",
       "        text-align: right;\n",
       "    }\n",
       "</style>\n",
       "<table border=\"1\" class=\"dataframe\">\n",
       "  <thead>\n",
       "    <tr style=\"text-align: right;\">\n",
       "      <th></th>\n",
       "      <th>Year</th>\n",
       "      <th>Lag1</th>\n",
       "      <th>Lag2</th>\n",
       "      <th>Lag3</th>\n",
       "      <th>Lag4</th>\n",
       "      <th>Lag5</th>\n",
       "      <th>Volume</th>\n",
       "      <th>Today</th>\n",
       "      <th>Direction</th>\n",
       "    </tr>\n",
       "  </thead>\n",
       "  <tbody>\n",
       "    <tr>\n",
       "      <th>0</th>\n",
       "      <td>2001</td>\n",
       "      <td>0.381</td>\n",
       "      <td>-0.192</td>\n",
       "      <td>-2.624</td>\n",
       "      <td>-1.055</td>\n",
       "      <td>5.010</td>\n",
       "      <td>1.1913</td>\n",
       "      <td>0.959</td>\n",
       "      <td>Up</td>\n",
       "    </tr>\n",
       "    <tr>\n",
       "      <th>1</th>\n",
       "      <td>2001</td>\n",
       "      <td>0.959</td>\n",
       "      <td>0.381</td>\n",
       "      <td>-0.192</td>\n",
       "      <td>-2.624</td>\n",
       "      <td>-1.055</td>\n",
       "      <td>1.2965</td>\n",
       "      <td>1.032</td>\n",
       "      <td>Up</td>\n",
       "    </tr>\n",
       "    <tr>\n",
       "      <th>2</th>\n",
       "      <td>2001</td>\n",
       "      <td>1.032</td>\n",
       "      <td>0.959</td>\n",
       "      <td>0.381</td>\n",
       "      <td>-0.192</td>\n",
       "      <td>-2.624</td>\n",
       "      <td>1.4112</td>\n",
       "      <td>-0.623</td>\n",
       "      <td>Down</td>\n",
       "    </tr>\n",
       "    <tr>\n",
       "      <th>3</th>\n",
       "      <td>2001</td>\n",
       "      <td>-0.623</td>\n",
       "      <td>1.032</td>\n",
       "      <td>0.959</td>\n",
       "      <td>0.381</td>\n",
       "      <td>-0.192</td>\n",
       "      <td>1.2760</td>\n",
       "      <td>0.614</td>\n",
       "      <td>Up</td>\n",
       "    </tr>\n",
       "    <tr>\n",
       "      <th>4</th>\n",
       "      <td>2001</td>\n",
       "      <td>0.614</td>\n",
       "      <td>-0.623</td>\n",
       "      <td>1.032</td>\n",
       "      <td>0.959</td>\n",
       "      <td>0.381</td>\n",
       "      <td>1.2057</td>\n",
       "      <td>0.213</td>\n",
       "      <td>Up</td>\n",
       "    </tr>\n",
       "  </tbody>\n",
       "</table>\n",
       "</div>"
      ],
      "text/plain": [
       "   Year   Lag1   Lag2   Lag3   Lag4   Lag5  Volume  Today Direction\n",
       "0  2001  0.381 -0.192 -2.624 -1.055  5.010  1.1913  0.959        Up\n",
       "1  2001  0.959  0.381 -0.192 -2.624 -1.055  1.2965  1.032        Up\n",
       "2  2001  1.032  0.959  0.381 -0.192 -2.624  1.4112 -0.623      Down\n",
       "3  2001 -0.623  1.032  0.959  0.381 -0.192  1.2760  0.614        Up\n",
       "4  2001  0.614 -0.623  1.032  0.959  0.381  1.2057  0.213        Up"
      ]
     },
     "execution_count": 89,
     "metadata": {},
     "output_type": "execute_result"
    }
   ],
   "source": [
    "df_market.head()"
   ]
  },
  {
   "cell_type": "code",
   "execution_count": 103,
   "metadata": {},
   "outputs": [
    {
     "data": {
      "text/html": [
       "<div>\n",
       "<style scoped>\n",
       "    .dataframe tbody tr th:only-of-type {\n",
       "        vertical-align: middle;\n",
       "    }\n",
       "\n",
       "    .dataframe tbody tr th {\n",
       "        vertical-align: top;\n",
       "    }\n",
       "\n",
       "    .dataframe thead th {\n",
       "        text-align: right;\n",
       "    }\n",
       "</style>\n",
       "<table border=\"1\" class=\"dataframe\">\n",
       "  <thead>\n",
       "    <tr style=\"text-align: right;\">\n",
       "      <th></th>\n",
       "      <th>Direction</th>\n",
       "      <th>Lag Type</th>\n",
       "      <th>Pct Change</th>\n",
       "    </tr>\n",
       "  </thead>\n",
       "  <tbody>\n",
       "    <tr>\n",
       "      <th>0</th>\n",
       "      <td>Up</td>\n",
       "      <td>Lag1</td>\n",
       "      <td>0.381</td>\n",
       "    </tr>\n",
       "    <tr>\n",
       "      <th>1</th>\n",
       "      <td>Up</td>\n",
       "      <td>Lag1</td>\n",
       "      <td>0.959</td>\n",
       "    </tr>\n",
       "    <tr>\n",
       "      <th>2</th>\n",
       "      <td>Down</td>\n",
       "      <td>Lag1</td>\n",
       "      <td>1.032</td>\n",
       "    </tr>\n",
       "    <tr>\n",
       "      <th>3</th>\n",
       "      <td>Up</td>\n",
       "      <td>Lag1</td>\n",
       "      <td>-0.623</td>\n",
       "    </tr>\n",
       "    <tr>\n",
       "      <th>4</th>\n",
       "      <td>Up</td>\n",
       "      <td>Lag1</td>\n",
       "      <td>0.614</td>\n",
       "    </tr>\n",
       "  </tbody>\n",
       "</table>\n",
       "</div>"
      ],
      "text/plain": [
       "  Direction Lag Type  Pct Change\n",
       "0        Up     Lag1       0.381\n",
       "1        Up     Lag1       0.959\n",
       "2      Down     Lag1       1.032\n",
       "3        Up     Lag1      -0.623\n",
       "4        Up     Lag1       0.614"
      ]
     },
     "execution_count": 103,
     "metadata": {},
     "output_type": "execute_result"
    }
   ],
   "source": [
    "df_market_melt = pd.melt(df_market,id_vars = 'Direction'\n",
    "                         ,value_vars=['Lag1','Lag2','Lag3']\n",
    "                         ,var_name = 'Lag Type'\n",
    "                        , value_name = 'Pct Change')\n",
    "\n",
    "df_market_melt.head()"
   ]
  },
  {
   "cell_type": "code",
   "execution_count": 137,
   "metadata": {},
   "outputs": [
    {
     "name": "stderr",
     "output_type": "stream",
     "text": [
      "C:\\Users\\amogg\\Anaconda3\\envs\\ml\\lib\\site-packages\\seaborn\\axisgrid.py:645: UserWarning: Using the boxplot function without specifying `order` is likely to produce an incorrect plot.\n",
      "  warnings.warn(warning)\n"
     ]
    },
    {
     "data": {
      "image/png": "[encoded data removed]",
      "text/plain": [
       "<Figure size 1036.8x576 with 3 Axes>"
      ]
     },
     "metadata": {},
     "output_type": "display_data"
    }
   ],
   "source": [
    "g = sns.FacetGrid(df_market_melt,col = 'Lag Type',height = 8,aspect = 0.6)\n",
    "g = g.map(sns.boxplot,'Direction','Pct Change',color = 'lightblue')\n"
   ]
  },
  {
   "cell_type": "markdown",
   "metadata": {},
   "source": [
    "All the plots at various lags are almost identical suggesting that there is no simple strategy for using yesterday’s movement in the S&P to predict today’s returns. The remaining panels, which display boxplots for the percentage changes 2 and 3 days previous to today, similarly indicate little association between past and present returns."
   ]
  },
  {
   "cell_type": "markdown",
   "metadata": {},
   "source": [
    "## Gene Expression Data\n",
    "\n",
    "Above two example illustrates data sets with both input and output. However, another class of problems involve situation where we have observed input value but no corresponding output. This is known as *`clustering`* problem. Unlike in the previous examples, here we are not trying to predict an output variable. \n"
   ]
  },
  {
   "cell_type": "code",
   "execution_count": 140,
   "metadata": {},
   "outputs": [
    {
     "data": {
      "text/html": [
       "<div>\n",
       "<style scoped>\n",
       "    .dataframe tbody tr th:only-of-type {\n",
       "        vertical-align: middle;\n",
       "    }\n",
       "\n",
       "    .dataframe tbody tr th {\n",
       "        vertical-align: top;\n",
       "    }\n",
       "\n",
       "    .dataframe thead th {\n",
       "        text-align: right;\n",
       "    }\n",
       "</style>\n",
       "<table border=\"1\" class=\"dataframe\">\n",
       "  <thead>\n",
       "    <tr style=\"text-align: right;\">\n",
       "      <th></th>\n",
       "      <th>1</th>\n",
       "      <th>2</th>\n",
       "      <th>3</th>\n",
       "      <th>4</th>\n",
       "      <th>5</th>\n",
       "      <th>6</th>\n",
       "      <th>7</th>\n",
       "      <th>8</th>\n",
       "      <th>9</th>\n",
       "      <th>10</th>\n",
       "      <th>...</th>\n",
       "      <th>6821</th>\n",
       "      <th>6822</th>\n",
       "      <th>6823</th>\n",
       "      <th>6824</th>\n",
       "      <th>6825</th>\n",
       "      <th>6826</th>\n",
       "      <th>6827</th>\n",
       "      <th>6828</th>\n",
       "      <th>6829</th>\n",
       "      <th>6830</th>\n",
       "    </tr>\n",
       "  </thead>\n",
       "  <tbody>\n",
       "    <tr>\n",
       "      <th>V1</th>\n",
       "      <td>0.300000</td>\n",
       "      <td>1.180000</td>\n",
       "      <td>0.550000</td>\n",
       "      <td>1.140000</td>\n",
       "      <td>-0.265000</td>\n",
       "      <td>-7.000000e-02</td>\n",
       "      <td>0.350000</td>\n",
       "      <td>-0.315000</td>\n",
       "      <td>-0.450000</td>\n",
       "      <td>-0.654981</td>\n",
       "      <td>...</td>\n",
       "      <td>-0.990019</td>\n",
       "      <td>0.000000</td>\n",
       "      <td>0.030000</td>\n",
       "      <td>-0.175000</td>\n",
       "      <td>0.629981</td>\n",
       "      <td>-0.030000</td>\n",
       "      <td>0.000000</td>\n",
       "      <td>0.280000</td>\n",
       "      <td>-0.340000</td>\n",
       "      <td>-1.930000</td>\n",
       "    </tr>\n",
       "    <tr>\n",
       "      <th>V2</th>\n",
       "      <td>0.679961</td>\n",
       "      <td>1.289961</td>\n",
       "      <td>0.169961</td>\n",
       "      <td>0.379961</td>\n",
       "      <td>0.464961</td>\n",
       "      <td>5.799610e-01</td>\n",
       "      <td>0.699961</td>\n",
       "      <td>0.724961</td>\n",
       "      <td>-0.040039</td>\n",
       "      <td>-0.285020</td>\n",
       "      <td>...</td>\n",
       "      <td>-0.270058</td>\n",
       "      <td>-0.300039</td>\n",
       "      <td>-0.250039</td>\n",
       "      <td>-0.535039</td>\n",
       "      <td>0.109941</td>\n",
       "      <td>-0.860039</td>\n",
       "      <td>-1.250049</td>\n",
       "      <td>-0.770039</td>\n",
       "      <td>-0.390039</td>\n",
       "      <td>-2.000039</td>\n",
       "    </tr>\n",
       "    <tr>\n",
       "      <th>V3</th>\n",
       "      <td>0.940000</td>\n",
       "      <td>-0.040000</td>\n",
       "      <td>-0.170000</td>\n",
       "      <td>-0.040000</td>\n",
       "      <td>-0.605000</td>\n",
       "      <td>0.000000e+00</td>\n",
       "      <td>0.090000</td>\n",
       "      <td>0.645000</td>\n",
       "      <td>0.430000</td>\n",
       "      <td>0.475019</td>\n",
       "      <td>...</td>\n",
       "      <td>0.319981</td>\n",
       "      <td>0.120000</td>\n",
       "      <td>-0.740000</td>\n",
       "      <td>-0.595000</td>\n",
       "      <td>-0.270020</td>\n",
       "      <td>-0.150000</td>\n",
       "      <td>0.000000</td>\n",
       "      <td>-0.120000</td>\n",
       "      <td>-0.410000</td>\n",
       "      <td>0.000000</td>\n",
       "    </tr>\n",
       "    <tr>\n",
       "      <th>V4</th>\n",
       "      <td>0.280000</td>\n",
       "      <td>-0.310000</td>\n",
       "      <td>0.680000</td>\n",
       "      <td>-0.810000</td>\n",
       "      <td>0.625000</td>\n",
       "      <td>-1.387779e-17</td>\n",
       "      <td>0.170000</td>\n",
       "      <td>0.245000</td>\n",
       "      <td>0.020000</td>\n",
       "      <td>0.095019</td>\n",
       "      <td>...</td>\n",
       "      <td>-1.240020</td>\n",
       "      <td>-0.110000</td>\n",
       "      <td>-0.160000</td>\n",
       "      <td>0.095000</td>\n",
       "      <td>-0.350020</td>\n",
       "      <td>-0.300000</td>\n",
       "      <td>-1.150010</td>\n",
       "      <td>1.090000</td>\n",
       "      <td>-0.260000</td>\n",
       "      <td>-1.100000</td>\n",
       "    </tr>\n",
       "    <tr>\n",
       "      <th>V5</th>\n",
       "      <td>0.485000</td>\n",
       "      <td>-0.465000</td>\n",
       "      <td>0.395000</td>\n",
       "      <td>0.905000</td>\n",
       "      <td>0.200000</td>\n",
       "      <td>-5.000000e-03</td>\n",
       "      <td>0.085000</td>\n",
       "      <td>0.110000</td>\n",
       "      <td>0.235000</td>\n",
       "      <td>1.490019</td>\n",
       "      <td>...</td>\n",
       "      <td>0.554980</td>\n",
       "      <td>-0.775000</td>\n",
       "      <td>-0.515000</td>\n",
       "      <td>-0.320000</td>\n",
       "      <td>0.634980</td>\n",
       "      <td>0.605000</td>\n",
       "      <td>0.000000</td>\n",
       "      <td>0.745000</td>\n",
       "      <td>0.425000</td>\n",
       "      <td>0.145000</td>\n",
       "    </tr>\n",
       "  </tbody>\n",
       "</table>\n",
       "<p>5 rows × 6830 columns</p>\n",
       "</div>"
      ],
      "text/plain": [
       "           1         2         3         4         5             6         7  \\\n",
       "V1  0.300000  1.180000  0.550000  1.140000 -0.265000 -7.000000e-02  0.350000   \n",
       "V2  0.679961  1.289961  0.169961  0.379961  0.464961  5.799610e-01  0.699961   \n",
       "V3  0.940000 -0.040000 -0.170000 -0.040000 -0.605000  0.000000e+00  0.090000   \n",
       "V4  0.280000 -0.310000  0.680000 -0.810000  0.625000 -1.387779e-17  0.170000   \n",
       "V5  0.485000 -0.465000  0.395000  0.905000  0.200000 -5.000000e-03  0.085000   \n",
       "\n",
       "           8         9        10  ...      6821      6822      6823      6824  \\\n",
       "V1 -0.315000 -0.450000 -0.654981  ... -0.990019  0.000000  0.030000 -0.175000   \n",
       "V2  0.724961 -0.040039 -0.285020  ... -0.270058 -0.300039 -0.250039 -0.535039   \n",
       "V3  0.645000  0.430000  0.475019  ...  0.319981  0.120000 -0.740000 -0.595000   \n",
       "V4  0.245000  0.020000  0.095019  ... -1.240020 -0.110000 -0.160000  0.095000   \n",
       "V5  0.110000  0.235000  1.490019  ...  0.554980 -0.775000 -0.515000 -0.320000   \n",
       "\n",
       "        6825      6826      6827      6828      6829      6830  \n",
       "V1  0.629981 -0.030000  0.000000  0.280000 -0.340000 -1.930000  \n",
       "V2  0.109941 -0.860039 -1.250049 -0.770039 -0.390039 -2.000039  \n",
       "V3 -0.270020 -0.150000  0.000000 -0.120000 -0.410000  0.000000  \n",
       "V4 -0.350020 -0.300000 -1.150010  1.090000 -0.260000 -1.100000  \n",
       "V5  0.634980  0.605000  0.000000  0.745000  0.425000  0.145000  \n",
       "\n",
       "[5 rows x 6830 columns]"
      ]
     },
     "execution_count": 140,
     "metadata": {},
     "output_type": "execute_result"
    }
   ],
   "source": [
    "df_genes = pd.read_csv('data/nci60_data.csv',index_col=0)\n",
    "df_genes.head()"
   ]
  },
  {
   "cell_type": "code",
   "execution_count": 141,
   "metadata": {},
   "outputs": [],
   "source": [
    "from sklearn.decomposition import PCA\n",
    "pca = PCA(2)\n",
    "df_genes_transformed = pd.DataFrame(pca.fit_transform(df_genes), columns=['PC1', 'PC2'])"
   ]
  },
  {
   "cell_type": "code",
   "execution_count": 142,
   "metadata": {},
   "outputs": [
    {
     "name": "stderr",
     "output_type": "stream",
     "text": [
      "C:\\Users\\amogg\\Anaconda3\\envs\\ml\\lib\\site-packages\\seaborn\\_decorators.py:43: FutureWarning: Pass the following variables as keyword args: x, y, data. From version 0.12, the only valid positional argument will be `data`, and passing other arguments without an explicit keyword will result in an error or misinterpretation.\n",
      "  FutureWarning\n",
      "C:\\Users\\amogg\\Anaconda3\\envs\\ml\\lib\\site-packages\\seaborn\\regression.py:580: UserWarning: The `size` parameter has been renamed to `height`; please update your code.\n",
      "  warnings.warn(msg, UserWarning)\n"
     ]
    },
    {
     "data": {
      "text/plain": [
       "<seaborn.axisgrid.FacetGrid at 0x218ee874108>"
      ]
     },
     "execution_count": 142,
     "metadata": {},
     "output_type": "execute_result"
    },
    {
     "data": {
      "image/png": "[encoded data removed]",
      "text/plain": [
       "<Figure size 618.375x576 with 1 Axes>"
      ]
     },
     "metadata": {},
     "output_type": "display_data"
    }
   ],
   "source": [
    "from sklearn.cluster import KMeans\n",
    "kmeans = KMeans(4)\n",
    "kmeans.fit(df_genes_transformed)\n",
    "df_genes_transformed['cluster'] = kmeans.labels_\n",
    "sns.lmplot('PC1', 'PC2', df_genes_transformed, fit_reg=False, hue='cluster', size=8, \n",
    "           scatter_kws={\"marker\": \"D\", \"s\": 100})"
   ]
  },
  {
   "cell_type": "markdown",
   "metadata": {},
   "source": [
    "# End Of Chapter 1"
   ]
  }
 ],
 "metadata": {
  "kernelspec": {
   "display_name": "Python 3",
   "language": "python",
   "name": "python3"
  },
  "language_info": {
   "codemirror_mode": {
    "name": "ipython",
    "version": 3
   },
   "file_extension": ".py",
   "mimetype": "text/x-python",
   "name": "python",
   "nbconvert_exporter": "python",
   "pygments_lexer": "ipython3",
   "version": "3.7.8"
  }
 },
 "nbformat": 4,
 "nbformat_minor": 4
}
